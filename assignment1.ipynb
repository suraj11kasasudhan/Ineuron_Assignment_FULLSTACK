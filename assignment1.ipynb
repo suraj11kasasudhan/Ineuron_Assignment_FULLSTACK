{
  "nbformat": 4,
  "nbformat_minor": 0,
  "metadata": {
    "colab": {
      "name": "assignment1",
      "provenance": [],
      "authorship_tag": "ABX9TyO54hg8GTrscXQQI0Bth1EY",
      "include_colab_link": true
    },
    "kernelspec": {
      "name": "python3",
      "display_name": "Python 3"
    },
    "language_info": {
      "name": "python"
    }
  },
  "cells": [
    {
      "cell_type": "markdown",
      "metadata": {
        "id": "view-in-github",
        "colab_type": "text"
      },
      "source": [
        "<a href=\"https://colab.research.google.com/github/suraj11kasasudhan/Ineuron_Assignment_FULLSTACK/blob/main/assignment1.ipynb\" target=\"_parent\"><img src=\"https://colab.research.google.com/assets/colab-badge.svg\" alt=\"Open In Colab\"/></a>"
      ]
    },
    {
      "cell_type": "markdown",
      "metadata": {
        "id": "rmYtbt-05aKJ"
      },
      "source": [
        "**Q1.Write a Python program to print Hello Python**"
      ]
    },
    {
      "cell_type": "code",
      "metadata": {
        "colab": {
          "base_uri": "https://localhost:8080/"
        },
        "id": "N_P3tdjk5NYJ",
        "outputId": "7ddc1780-9e15-4fe3-952b-38d44e7260a4"
      },
      "source": [
        "\n",
        "a = input(\"Enter Input: \")\n",
        "print(a)"
      ],
      "execution_count": 15,
      "outputs": [
        {
          "output_type": "stream",
          "text": [
            "Enter Input: hello pyhton\n",
            "hello pyhton\n"
          ],
          "name": "stdout"
        }
      ]
    },
    {
      "cell_type": "markdown",
      "metadata": {
        "id": "MuNZ_Xew5UbN"
      },
      "source": [
        "**Q2.Write a Python program to do arithmetical operations addition and division.?**"
      ]
    },
    {
      "cell_type": "code",
      "metadata": {
        "colab": {
          "base_uri": "https://localhost:8080/"
        },
        "id": "uiI42VAg0wmI",
        "outputId": "65a256c9-a32f-439f-e6a5-4eb38386b189"
      },
      "source": [
        "#solution 2\n",
        "a = int(input(\"Enter Number1:\"))\n",
        "b = int(input(\"Enter Number2:\"))\n",
        "ops = input(\"Enter Operation to be performed:\")\n",
        "if ops == \"addition\":\n",
        "    sum = a+b\n",
        "    print(\"addition is \",sum)\n",
        "elif ops == \"division\":\n",
        "      if(b==0):\n",
        "        print(\"invalid input\")\n",
        "      else:\n",
        "        d = a/b\n",
        "        print(\"Division is \",d)\n",
        "else:\n",
        "    print(\"Enter either addition or division \")\n"
      ],
      "execution_count": 5,
      "outputs": [
        {
          "output_type": "stream",
          "text": [
            "Enter Number1:2\n",
            "Enter Number2:4\n",
            "Enter Operation to be performed:addition\n",
            "addition is  6\n"
          ],
          "name": "stdout"
        }
      ]
    },
    {
      "cell_type": "markdown",
      "metadata": {
        "id": "3mK4Ftuq5f3v"
      },
      "source": [
        "**Q3.Write a Python program to find the area of a triangle?**"
      ]
    },
    {
      "cell_type": "code",
      "metadata": {
        "colab": {
          "base_uri": "https://localhost:8080/"
        },
        "id": "wCDDU6Qb0h9P",
        "outputId": "9616efa2-01a7-4a6e-c5af-76881b030f15"
      },
      "source": [
        "#soulution 3\n",
        "def area_triangle(base,height):\n",
        "    area = (base*height)/2\n",
        "    print(area)\n",
        "\n",
        "base=int(input(\"enter base of triangle \"))\n",
        "height=int(input('enter height of traingle '))\n",
        "\n",
        "\n",
        "area_triangle(base,height)"
      ],
      "execution_count": 8,
      "outputs": [
        {
          "output_type": "stream",
          "text": [
            "enter base of triangle 4\n",
            "enter height of traingle 8\n",
            "16.0\n"
          ],
          "name": "stdout"
        }
      ]
    },
    {
      "cell_type": "markdown",
      "metadata": {
        "id": "E5PUnJhd5g6v"
      },
      "source": [
        "**Q4.Write a Python program to swap two variables?**"
      ]
    },
    {
      "cell_type": "code",
      "metadata": {
        "colab": {
          "base_uri": "https://localhost:8080/"
        },
        "id": "JEHbhk633D6g",
        "outputId": "5f310464-f5c4-43a1-a4a0-5b055953df75"
      },
      "source": [
        "#solution 4\n",
        "x = input(\"Enter num1: \")\n",
        "print(x)\n",
        "y = input(\"Enter num2: \")\n",
        "print(y)\n",
        "\n",
        "print(\"{} and {} are valuse of x and y before swapping\".format(x,y))\n",
        "\n",
        "#swapping x and y\n",
        "temp = x\n",
        "x = y\n",
        "y = temp\n",
        "\n",
        "print(\"{} and {} are new valuse of x and y after swapping\".format(x,y))"
      ],
      "execution_count": 10,
      "outputs": [
        {
          "output_type": "stream",
          "text": [
            "Enter num1: 3\n",
            "3\n",
            "Enter num2: 5\n",
            "5\n",
            "3 and 5 are valuse of x and y before swapping\n",
            "5 and 3 are new valuse of x and y after swapping\n"
          ],
          "name": "stdout"
        }
      ]
    },
    {
      "cell_type": "markdown",
      "metadata": {
        "id": "X8l3rLVl5hw7"
      },
      "source": [
        "**Q5.Write a Python program to generate a random number?**"
      ]
    },
    {
      "cell_type": "code",
      "metadata": {
        "colab": {
          "base_uri": "https://localhost:8080/"
        },
        "id": "aHCiYPVH3lrL",
        "outputId": "964f4f29-4259-4200-85ff-dbb87f938c0c"
      },
      "source": [
        "#suloution 5\n",
        "\n",
        "import random\n",
        "rndno = random.random()\n",
        "print(rndno)"
      ],
      "execution_count": 13,
      "outputs": [
        {
          "output_type": "stream",
          "text": [
            "0.928922710321446\n"
          ],
          "name": "stdout"
        }
      ]
    }
  ]
}