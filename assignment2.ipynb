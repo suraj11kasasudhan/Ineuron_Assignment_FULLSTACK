{
  "nbformat": 4,
  "nbformat_minor": 0,
  "metadata": {
    "colab": {
      "name": "assignment2.ipynb",
      "provenance": [],
      "authorship_tag": "ABX9TyOxDhmb+2ISmM5/qCuvoLaW",
      "include_colab_link": true
    },
    "kernelspec": {
      "name": "python3",
      "display_name": "Python 3"
    },
    "language_info": {
      "name": "python"
    }
  },
  "cells": [
    {
      "cell_type": "markdown",
      "metadata": {
        "id": "view-in-github",
        "colab_type": "text"
      },
      "source": [
        "<a href=\"https://colab.research.google.com/github/suraj11kasasudhan/Ineuron_Assignment_FULLSTACK/blob/main/assignment2.ipynb\" target=\"_parent\"><img src=\"https://colab.research.google.com/assets/colab-badge.svg\" alt=\"Open In Colab\"/></a>"
      ]
    },
    {
      "cell_type": "markdown",
      "metadata": {
        "id": "JpkGwc6T9nGp"
      },
      "source": [
        "**Q1.Write a Python program to convert kilometers to miles?**\n"
      ]
    },
    {
      "cell_type": "code",
      "metadata": {
        "colab": {
          "base_uri": "https://localhost:8080/"
        },
        "id": "yjU_c4VS902i",
        "outputId": "5e1d0b06-6145-41d9-df4d-9afaa992e3a8"
      },
      "source": [
        "def km_miles_convert(km):\n",
        "    miles = km*0.621371\n",
        "    print(\"{} km is equal to {}miles.\".format(km,miles))\n",
        "\n",
        "a = km_miles_convert(500)"
      ],
      "execution_count": 3,
      "outputs": [
        {
          "output_type": "stream",
          "text": [
            "500 km is equal to 310.6855miles.\n"
          ],
          "name": "stdout"
        }
      ]
    },
    {
      "cell_type": "markdown",
      "metadata": {
        "id": "4GRP8BP391ig"
      },
      "source": [
        "**Q2.Write a Python program to convert Celsius to Fahrenheit?**"
      ]
    },
    {
      "cell_type": "code",
      "metadata": {
        "colab": {
          "base_uri": "https://localhost:8080/"
        },
        "id": "MXagNdgc99nu",
        "outputId": "1d695f5c-b285-4bb9-bed0-2840c13b0397"
      },
      "source": [
        "def celsius_fahrenheit_convert(C):\n",
        "    fah = (C * 9/5) + 32\n",
        "    print(\"{}°C is equal to {}°F\".format(C,fah))\n",
        "    \n",
        "a = celsius_fahrenheit_convert(10)"
      ],
      "execution_count": 4,
      "outputs": [
        {
          "output_type": "stream",
          "text": [
            "10°C is equal to 50.0°F\n"
          ],
          "name": "stdout"
        }
      ]
    },
    {
      "cell_type": "markdown",
      "metadata": {
        "id": "oTpPZaFx9_Ej"
      },
      "source": [
        "**Q3.Write a Python program to display calendar?**"
      ]
    },
    {
      "cell_type": "code",
      "metadata": {
        "colab": {
          "base_uri": "https://localhost:8080/"
        },
        "id": "Akm_8slb-Gr4",
        "outputId": "1c756afa-d8f3-4798-f2d0-c7dd60f1d2cb"
      },
      "source": [
        "import calendar\n",
        "def display_calender(year,month):\n",
        "    print(calendar.month(year,month))\n",
        "display_calender(1998,7)"
      ],
      "execution_count": 6,
      "outputs": [
        {
          "output_type": "stream",
          "text": [
            "     July 1998\n",
            "Mo Tu We Th Fr Sa Su\n",
            "       1  2  3  4  5\n",
            " 6  7  8  9 10 11 12\n",
            "13 14 15 16 17 18 19\n",
            "20 21 22 23 24 25 26\n",
            "27 28 29 30 31\n",
            "\n"
          ],
          "name": "stdout"
        }
      ]
    },
    {
      "cell_type": "markdown",
      "metadata": {
        "id": "5sy7XgrM-G21"
      },
      "source": [
        "**Q4.Write a Python program to solve quadratic equation?**"
      ]
    },
    {
      "cell_type": "code",
      "metadata": {
        "colab": {
          "base_uri": "https://localhost:8080/"
        },
        "id": "tfokZlDi-ORU",
        "outputId": "e8acfeb6-28e0-4417-bdb8-be24324a05cf"
      },
      "source": [
        "# ax^2+bx+c=0\n",
        "a = int(input(\"Enter a: \"))\n",
        "b = int(input(\"Enter b: \"))\n",
        "c = int(input(\"Enter c: \"))\n",
        "\n",
        "print(\"Quadratic Equation is: {}x^2+{}x+{}=0\".format(a,b,c))\n",
        "\n",
        "if a==0:\n",
        "    print(\"a should not be equal to Zero\")\n",
        "else:\n",
        "    r = b**2 - 4*a*c\n",
        "    x1 = (((-b) + r**0.5)/(2*a))\n",
        "    x2 = (((-b) - r**0.5)/(2*a))\n",
        "    print(\"Two possible values of our quadratic equation are {} and {}\".format(x1,x2))"
      ],
      "execution_count": 7,
      "outputs": [
        {
          "output_type": "stream",
          "text": [
            "Enter a: 2\n",
            "Enter b: 1\n",
            "Enter c: 3\n",
            "Quadratic Equation is: 2x^2+1x+3=0\n",
            "Two possible values of our quadratic equation are (-0.24999999999999992+1.1989578808281798j) and (-0.25000000000000006-1.1989578808281798j)\n"
          ],
          "name": "stdout"
        }
      ]
    },
    {
      "cell_type": "markdown",
      "metadata": {
        "id": "bSMocFuV-ObC"
      },
      "source": [
        "**Q5.Write a Python program to swap two variables without temp variable?**"
      ]
    },
    {
      "cell_type": "code",
      "metadata": {
        "colab": {
          "base_uri": "https://localhost:8080/"
        },
        "id": "f_AtT5hq-WL_",
        "outputId": "37bfa9aa-58d2-4a11-f855-5d329cbab7d8"
      },
      "source": [
        "a = float(input(\"Enter variable1: \"))\n",
        "b = float(input(\"Enter variable2: \"))\n",
        "\n",
        "print('before swapping a = {} and b = {}'.format(a,b))\n",
        "\n",
        "a = a+b\n",
        "b = a-b\n",
        "a = a-b\n",
        "\n",
        "print('after swapping a = {} and b = {}'.format(a,b))"
      ],
      "execution_count": 8,
      "outputs": [
        {
          "output_type": "stream",
          "text": [
            "Enter variable1: 3\n",
            "Enter variable2: 4\n",
            "before swapping a = 3.0 and b = 4.0\n",
            "after swapping a = 4.0 and b = 3.0\n"
          ],
          "name": "stdout"
        }
      ]
    }
  ]
}